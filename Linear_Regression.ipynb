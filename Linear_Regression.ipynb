{
 "cells": [
  {
   "cell_type": "code",
   "execution_count": 41,
   "metadata": {},
   "outputs": [],
   "source": [
    "#Importing libararies\n",
    "%matplotlib inline\n",
    "import os\n",
    "import numpy as np\n",
    "import pandas as pd\n",
    "import matplotlib.pyplot as plt\n",
    "plt.rcParams['figure.figsize'] = (12, 10)\n",
    "from sklearn.model_selection import train_test_split\n",
    "import seaborn as sns\n",
    "from sklearn.preprocessing import StandardScaler\n",
    "from sklearn.metrics import accuracy_score , confusion_matrix\n",
    "import warnings\n",
    "import math\n",
    "import random\n",
    "import scipy.stats\n",
    "warnings.filterwarnings('ignore')"
   ]
  },
  {
   "cell_type": "code",
   "execution_count": 42,
   "metadata": {},
   "outputs": [],
   "source": [
    "#Change the directory name\n",
    "os.chdir('C:/Users/ssahi/Documents/ML_Course/Assignment_1')"
   ]
  },
  {
   "cell_type": "markdown",
   "metadata": {},
   "source": [
    "## Data Preprocessing"
   ]
  },
  {
   "cell_type": "code",
   "execution_count": 43,
   "metadata": {},
   "outputs": [
    {
     "data": {
      "text/plain": [
       "(241600, 18)"
      ]
     },
     "execution_count": 43,
     "metadata": {},
     "output_type": "execute_result"
    }
   ],
   "source": [
    "#Reading the data\n",
    "df = pd.read_csv(\"sgemm_product.csv\")\n",
    "df.shape"
   ]
  },
  {
   "cell_type": "markdown",
   "metadata": {},
   "source": [
    "The data has 241600 records and 18 features"
   ]
  },
  {
   "cell_type": "code",
   "execution_count": 5,
   "metadata": {},
   "outputs": [
    {
     "data": {
      "text/html": [
       "<div>\n",
       "<style scoped>\n",
       "    .dataframe tbody tr th:only-of-type {\n",
       "        vertical-align: middle;\n",
       "    }\n",
       "\n",
       "    .dataframe tbody tr th {\n",
       "        vertical-align: top;\n",
       "    }\n",
       "\n",
       "    .dataframe thead th {\n",
       "        text-align: right;\n",
       "    }\n",
       "</style>\n",
       "<table border=\"1\" class=\"dataframe\">\n",
       "  <thead>\n",
       "    <tr style=\"text-align: right;\">\n",
       "      <th></th>\n",
       "      <th>MWG</th>\n",
       "      <th>NWG</th>\n",
       "      <th>KWG</th>\n",
       "      <th>MDIMC</th>\n",
       "      <th>NDIMC</th>\n",
       "      <th>MDIMA</th>\n",
       "      <th>NDIMB</th>\n",
       "      <th>KWI</th>\n",
       "      <th>VWM</th>\n",
       "      <th>VWN</th>\n",
       "      <th>STRM</th>\n",
       "      <th>STRN</th>\n",
       "      <th>SA</th>\n",
       "      <th>SB</th>\n",
       "      <th>Run1 (ms)</th>\n",
       "      <th>Run2 (ms)</th>\n",
       "      <th>Run3 (ms)</th>\n",
       "      <th>Run4 (ms)</th>\n",
       "    </tr>\n",
       "  </thead>\n",
       "  <tbody>\n",
       "    <tr>\n",
       "      <th>0</th>\n",
       "      <td>16</td>\n",
       "      <td>16</td>\n",
       "      <td>16</td>\n",
       "      <td>8</td>\n",
       "      <td>8</td>\n",
       "      <td>8</td>\n",
       "      <td>8</td>\n",
       "      <td>2</td>\n",
       "      <td>1</td>\n",
       "      <td>1</td>\n",
       "      <td>0</td>\n",
       "      <td>0</td>\n",
       "      <td>0</td>\n",
       "      <td>0</td>\n",
       "      <td>115.26</td>\n",
       "      <td>115.87</td>\n",
       "      <td>118.55</td>\n",
       "      <td>115.80</td>\n",
       "    </tr>\n",
       "    <tr>\n",
       "      <th>1</th>\n",
       "      <td>16</td>\n",
       "      <td>16</td>\n",
       "      <td>16</td>\n",
       "      <td>8</td>\n",
       "      <td>8</td>\n",
       "      <td>8</td>\n",
       "      <td>8</td>\n",
       "      <td>2</td>\n",
       "      <td>1</td>\n",
       "      <td>1</td>\n",
       "      <td>0</td>\n",
       "      <td>0</td>\n",
       "      <td>0</td>\n",
       "      <td>1</td>\n",
       "      <td>78.13</td>\n",
       "      <td>78.25</td>\n",
       "      <td>79.25</td>\n",
       "      <td>79.19</td>\n",
       "    </tr>\n",
       "    <tr>\n",
       "      <th>2</th>\n",
       "      <td>16</td>\n",
       "      <td>16</td>\n",
       "      <td>16</td>\n",
       "      <td>8</td>\n",
       "      <td>8</td>\n",
       "      <td>8</td>\n",
       "      <td>8</td>\n",
       "      <td>2</td>\n",
       "      <td>1</td>\n",
       "      <td>1</td>\n",
       "      <td>0</td>\n",
       "      <td>0</td>\n",
       "      <td>1</td>\n",
       "      <td>0</td>\n",
       "      <td>79.84</td>\n",
       "      <td>80.69</td>\n",
       "      <td>80.76</td>\n",
       "      <td>80.97</td>\n",
       "    </tr>\n",
       "    <tr>\n",
       "      <th>3</th>\n",
       "      <td>16</td>\n",
       "      <td>16</td>\n",
       "      <td>16</td>\n",
       "      <td>8</td>\n",
       "      <td>8</td>\n",
       "      <td>8</td>\n",
       "      <td>8</td>\n",
       "      <td>2</td>\n",
       "      <td>1</td>\n",
       "      <td>1</td>\n",
       "      <td>0</td>\n",
       "      <td>0</td>\n",
       "      <td>1</td>\n",
       "      <td>1</td>\n",
       "      <td>84.32</td>\n",
       "      <td>89.90</td>\n",
       "      <td>86.75</td>\n",
       "      <td>85.58</td>\n",
       "    </tr>\n",
       "    <tr>\n",
       "      <th>4</th>\n",
       "      <td>16</td>\n",
       "      <td>16</td>\n",
       "      <td>16</td>\n",
       "      <td>8</td>\n",
       "      <td>8</td>\n",
       "      <td>8</td>\n",
       "      <td>8</td>\n",
       "      <td>2</td>\n",
       "      <td>1</td>\n",
       "      <td>1</td>\n",
       "      <td>0</td>\n",
       "      <td>1</td>\n",
       "      <td>0</td>\n",
       "      <td>0</td>\n",
       "      <td>115.13</td>\n",
       "      <td>121.98</td>\n",
       "      <td>122.73</td>\n",
       "      <td>114.81</td>\n",
       "    </tr>\n",
       "  </tbody>\n",
       "</table>\n",
       "</div>"
      ],
      "text/plain": [
       "   MWG  NWG  KWG  MDIMC  NDIMC  MDIMA  NDIMB  KWI  VWM  VWN  STRM  STRN  SA  \\\n",
       "0   16   16   16      8      8      8      8    2    1    1     0     0   0   \n",
       "1   16   16   16      8      8      8      8    2    1    1     0     0   0   \n",
       "2   16   16   16      8      8      8      8    2    1    1     0     0   1   \n",
       "3   16   16   16      8      8      8      8    2    1    1     0     0   1   \n",
       "4   16   16   16      8      8      8      8    2    1    1     0     1   0   \n",
       "\n",
       "   SB  Run1 (ms)  Run2 (ms)  Run3 (ms)  Run4 (ms)  \n",
       "0   0     115.26     115.87     118.55     115.80  \n",
       "1   1      78.13      78.25      79.25      79.19  \n",
       "2   0      79.84      80.69      80.76      80.97  \n",
       "3   1      84.32      89.90      86.75      85.58  \n",
       "4   0     115.13     121.98     122.73     114.81  "
      ]
     },
     "execution_count": 5,
     "metadata": {},
     "output_type": "execute_result"
    }
   ],
   "source": [
    "df.head()"
   ]
  },
  {
   "cell_type": "markdown",
   "metadata": {},
   "source": [
    "This data set measures the running time of a matrix-matrix product A*B = C, where all matrices have size 2048 x 2048, using a parameterizable SGEMM GPU kernel with 261400 possible parameter combinations. \n",
    "\n",
    "For each tested combination, 4 runs were performed and their results are reported as the 4 last columns. All times are measured in milliseconds.\n",
    "\n",
    "The first 14 features are the independent variables. The first 10 are ordinal and can only take up to 4 different powers of two values, and the 4 last variables are binary. Out of 1327104 total parameter combinations, only 261400 are feasible (due to various kernel constraints). This data set contains the results for all these feasible combinations.\n",
    "\n",
    "Therefore, we have 14 predictive attributes and 4 goal fields."
   ]
  },
  {
   "cell_type": "code",
   "execution_count": 6,
   "metadata": {},
   "outputs": [
    {
     "name": "stdout",
     "output_type": "stream",
     "text": [
      "<class 'pandas.core.frame.DataFrame'>\n",
      "RangeIndex: 241600 entries, 0 to 241599\n",
      "Data columns (total 18 columns):\n",
      "MWG          241600 non-null int64\n",
      "NWG          241600 non-null int64\n",
      "KWG          241600 non-null int64\n",
      "MDIMC        241600 non-null int64\n",
      "NDIMC        241600 non-null int64\n",
      "MDIMA        241600 non-null int64\n",
      "NDIMB        241600 non-null int64\n",
      "KWI          241600 non-null int64\n",
      "VWM          241600 non-null int64\n",
      "VWN          241600 non-null int64\n",
      "STRM         241600 non-null int64\n",
      "STRN         241600 non-null int64\n",
      "SA           241600 non-null int64\n",
      "SB           241600 non-null int64\n",
      "Run1 (ms)    241600 non-null float64\n",
      "Run2 (ms)    241600 non-null float64\n",
      "Run3 (ms)    241600 non-null float64\n",
      "Run4 (ms)    241600 non-null float64\n",
      "dtypes: float64(4), int64(14)\n",
      "memory usage: 33.2 MB\n"
     ]
    }
   ],
   "source": [
    "df.info()"
   ]
  },
  {
   "cell_type": "code",
   "execution_count": 7,
   "metadata": {},
   "outputs": [
    {
     "data": {
      "text/plain": [
       "MWG          0\n",
       "NWG          0\n",
       "KWG          0\n",
       "MDIMC        0\n",
       "NDIMC        0\n",
       "MDIMA        0\n",
       "NDIMB        0\n",
       "KWI          0\n",
       "VWM          0\n",
       "VWN          0\n",
       "STRM         0\n",
       "STRN         0\n",
       "SA           0\n",
       "SB           0\n",
       "Run1 (ms)    0\n",
       "Run2 (ms)    0\n",
       "Run3 (ms)    0\n",
       "Run4 (ms)    0\n",
       "dtype: int64"
      ]
     },
     "execution_count": 7,
     "metadata": {},
     "output_type": "execute_result"
    }
   ],
   "source": [
    "#Checking for missing values\n",
    "df.isnull().sum()"
   ]
  },
  {
   "cell_type": "markdown",
   "metadata": {},
   "source": [
    "There are no missing values"
   ]
  },
  {
   "cell_type": "code",
   "execution_count": 44,
   "metadata": {},
   "outputs": [],
   "source": [
    "#Taking the average of runs for target variable\n",
    "df[\"avg_run\"] = df.iloc[:,14:].mean(axis = 1)"
   ]
  },
  {
   "cell_type": "code",
   "execution_count": 45,
   "metadata": {},
   "outputs": [
    {
     "data": {
      "text/html": [
       "<div>\n",
       "<style scoped>\n",
       "    .dataframe tbody tr th:only-of-type {\n",
       "        vertical-align: middle;\n",
       "    }\n",
       "\n",
       "    .dataframe tbody tr th {\n",
       "        vertical-align: top;\n",
       "    }\n",
       "\n",
       "    .dataframe thead th {\n",
       "        text-align: right;\n",
       "    }\n",
       "</style>\n",
       "<table border=\"1\" class=\"dataframe\">\n",
       "  <thead>\n",
       "    <tr style=\"text-align: right;\">\n",
       "      <th></th>\n",
       "      <th>MWG</th>\n",
       "      <th>NWG</th>\n",
       "      <th>KWG</th>\n",
       "      <th>MDIMC</th>\n",
       "      <th>NDIMC</th>\n",
       "      <th>MDIMA</th>\n",
       "      <th>NDIMB</th>\n",
       "      <th>KWI</th>\n",
       "      <th>VWM</th>\n",
       "      <th>VWN</th>\n",
       "      <th>STRM</th>\n",
       "      <th>STRN</th>\n",
       "      <th>SA</th>\n",
       "      <th>SB</th>\n",
       "      <th>avg_run</th>\n",
       "    </tr>\n",
       "  </thead>\n",
       "  <tbody>\n",
       "    <tr>\n",
       "      <th>0</th>\n",
       "      <td>16</td>\n",
       "      <td>16</td>\n",
       "      <td>16</td>\n",
       "      <td>8</td>\n",
       "      <td>8</td>\n",
       "      <td>8</td>\n",
       "      <td>8</td>\n",
       "      <td>2</td>\n",
       "      <td>1</td>\n",
       "      <td>1</td>\n",
       "      <td>0</td>\n",
       "      <td>0</td>\n",
       "      <td>0</td>\n",
       "      <td>0</td>\n",
       "      <td>116.3700</td>\n",
       "    </tr>\n",
       "    <tr>\n",
       "      <th>1</th>\n",
       "      <td>16</td>\n",
       "      <td>16</td>\n",
       "      <td>16</td>\n",
       "      <td>8</td>\n",
       "      <td>8</td>\n",
       "      <td>8</td>\n",
       "      <td>8</td>\n",
       "      <td>2</td>\n",
       "      <td>1</td>\n",
       "      <td>1</td>\n",
       "      <td>0</td>\n",
       "      <td>0</td>\n",
       "      <td>0</td>\n",
       "      <td>1</td>\n",
       "      <td>78.7050</td>\n",
       "    </tr>\n",
       "    <tr>\n",
       "      <th>2</th>\n",
       "      <td>16</td>\n",
       "      <td>16</td>\n",
       "      <td>16</td>\n",
       "      <td>8</td>\n",
       "      <td>8</td>\n",
       "      <td>8</td>\n",
       "      <td>8</td>\n",
       "      <td>2</td>\n",
       "      <td>1</td>\n",
       "      <td>1</td>\n",
       "      <td>0</td>\n",
       "      <td>0</td>\n",
       "      <td>1</td>\n",
       "      <td>0</td>\n",
       "      <td>80.5650</td>\n",
       "    </tr>\n",
       "    <tr>\n",
       "      <th>3</th>\n",
       "      <td>16</td>\n",
       "      <td>16</td>\n",
       "      <td>16</td>\n",
       "      <td>8</td>\n",
       "      <td>8</td>\n",
       "      <td>8</td>\n",
       "      <td>8</td>\n",
       "      <td>2</td>\n",
       "      <td>1</td>\n",
       "      <td>1</td>\n",
       "      <td>0</td>\n",
       "      <td>0</td>\n",
       "      <td>1</td>\n",
       "      <td>1</td>\n",
       "      <td>86.6375</td>\n",
       "    </tr>\n",
       "    <tr>\n",
       "      <th>4</th>\n",
       "      <td>16</td>\n",
       "      <td>16</td>\n",
       "      <td>16</td>\n",
       "      <td>8</td>\n",
       "      <td>8</td>\n",
       "      <td>8</td>\n",
       "      <td>8</td>\n",
       "      <td>2</td>\n",
       "      <td>1</td>\n",
       "      <td>1</td>\n",
       "      <td>0</td>\n",
       "      <td>1</td>\n",
       "      <td>0</td>\n",
       "      <td>0</td>\n",
       "      <td>118.6625</td>\n",
       "    </tr>\n",
       "  </tbody>\n",
       "</table>\n",
       "</div>"
      ],
      "text/plain": [
       "   MWG  NWG  KWG  MDIMC  NDIMC  MDIMA  NDIMB  KWI  VWM  VWN  STRM  STRN  SA  \\\n",
       "0   16   16   16      8      8      8      8    2    1    1     0     0   0   \n",
       "1   16   16   16      8      8      8      8    2    1    1     0     0   0   \n",
       "2   16   16   16      8      8      8      8    2    1    1     0     0   1   \n",
       "3   16   16   16      8      8      8      8    2    1    1     0     0   1   \n",
       "4   16   16   16      8      8      8      8    2    1    1     0     1   0   \n",
       "\n",
       "   SB   avg_run  \n",
       "0   0  116.3700  \n",
       "1   1   78.7050  \n",
       "2   0   80.5650  \n",
       "3   1   86.6375  \n",
       "4   0  118.6625  "
      ]
     },
     "execution_count": 45,
     "metadata": {},
     "output_type": "execute_result"
    }
   ],
   "source": [
    "#Dropping the four Run columns\n",
    "df.drop(['Run1 (ms)', 'Run2 (ms)','Run3 (ms)', 'Run4 (ms)'], axis = 1, inplace = True)\n",
    "\n",
    "df.head()"
   ]
  },
  {
   "cell_type": "code",
   "execution_count": 36,
   "metadata": {},
   "outputs": [
    {
     "data": {
      "image/png": "[encoded data removed]",
      "text/plain": [
       "<Figure size 864x1152 with 16 Axes>"
      ]
     },
     "metadata": {
      "needs_background": "light"
     },
     "output_type": "display_data"
    }
   ],
   "source": [
    "# Histogram of all the features to understand the distribution\n",
    "df.hist(bins = 20 , figsize= (12,16)) ;"
   ]
  },
  {
   "cell_type": "markdown",
   "metadata": {},
   "source": [
    "We see that the avg_run target variable is right-skewed. We can correct this by taking the logarithmic transformation of the target variable and using that instead."
   ]
  },
  {
   "cell_type": "code",
   "execution_count": 46,
   "metadata": {},
   "outputs": [
    {
     "data": {
      "image/png": "[encoded data removed]",
      "text/plain": [
       "<Figure size 720x288 with 2 Axes>"
      ]
     },
     "metadata": {
      "needs_background": "light"
     },
     "output_type": "display_data"
    }
   ],
   "source": [
    "#Taking log of the Average run times\n",
    "df[\"log_avg_run\"] = np.log(df.avg_run) \n",
    "\n",
    "plt.rcParams['figure.figsize'] = (10, 4)\n",
    "run_time_cols = [\"avg_run\",\"log_avg_run\"]\n",
    "run_times=df[run_time_cols]\n",
    "run_times.hist(bins = 20) ;"
   ]
  },
  {
   "cell_type": "markdown",
   "metadata": {},
   "source": [
    "As we observe, the logarithmic transformation is giving us a more normally distributed function. Therefore, we will drop avg_run column and use the log_avg_run column as target variable."
   ]
  },
  {
   "cell_type": "code",
   "execution_count": 47,
   "metadata": {},
   "outputs": [],
   "source": [
    "#Dropping the Average run column\n",
    "df.drop(['avg_run'], axis = 1, inplace = True)"
   ]
  },
  {
   "cell_type": "code",
   "execution_count": 13,
   "metadata": {},
   "outputs": [
    {
     "data": {
      "text/plain": [
       "Text(0.5, 1.0, 'Average Run Time distribution')"
      ]
     },
     "execution_count": 13,
     "metadata": {},
     "output_type": "execute_result"
    },
    {
     "data": {
      "image/png": "[encoded data removed]",
      "text/plain": [
       "<Figure size 864x432 with 1 Axes>"
      ]
     },
     "metadata": {
      "needs_background": "light"
     },
     "output_type": "display_data"
    }
   ],
   "source": [
    "# Find outliers\n",
    "plt.rcParams['figure.figsize'] = (12, 6)\n",
    "sns.boxplot(x=\"log_avg_run\", data=df)\n",
    "plt.xlabel('Log of Average Run Time', fontsize=12)\n",
    "plt.title(\"Average Run Time distribution\", fontsize=15)"
   ]
  },
  {
   "cell_type": "markdown",
   "metadata": {},
   "source": [
    "We see that there are some outlier values in the target column. We can delete these rows as the number of these rows is a very low percentage of the total rows."
   ]
  },
  {
   "cell_type": "code",
   "execution_count": 48,
   "metadata": {},
   "outputs": [],
   "source": [
    "#Deleting outliers\n",
    "df = df[df['log_avg_run'] <= 8]"
   ]
  },
  {
   "cell_type": "markdown",
   "metadata": {},
   "source": [
    "## Scaling and Dividing into Training and Test Sets"
   ]
  },
  {
   "cell_type": "code",
   "execution_count": 49,
   "metadata": {},
   "outputs": [],
   "source": [
    "#Normalize using StandardScaler function\n",
    "sc_data = StandardScaler()\n",
    "LineReg = sc_data.fit_transform(df)\n",
    "LineReg = pd.DataFrame(LineReg)\n",
    "LineReg.columns = ['MWG', 'NWG', 'KWG', 'MDIMC', 'NDIMC', 'MDIMA', 'NDIMB', 'KWI',\n",
    "       'VWM', 'VWN', 'STRM', 'STRN', 'SA', 'SB', 'log_avg_run']"
   ]
  },
  {
   "cell_type": "code",
   "execution_count": 50,
   "metadata": {},
   "outputs": [
    {
     "data": {
      "text/html": [
       "<div>\n",
       "<style scoped>\n",
       "    .dataframe tbody tr th:only-of-type {\n",
       "        vertical-align: middle;\n",
       "    }\n",
       "\n",
       "    .dataframe tbody tr th {\n",
       "        vertical-align: top;\n",
       "    }\n",
       "\n",
       "    .dataframe thead th {\n",
       "        text-align: right;\n",
       "    }\n",
       "</style>\n",
       "<table border=\"1\" class=\"dataframe\">\n",
       "  <thead>\n",
       "    <tr style=\"text-align: right;\">\n",
       "      <th></th>\n",
       "      <th>MWG</th>\n",
       "      <th>NWG</th>\n",
       "      <th>KWG</th>\n",
       "      <th>MDIMC</th>\n",
       "      <th>NDIMC</th>\n",
       "      <th>MDIMA</th>\n",
       "      <th>NDIMB</th>\n",
       "      <th>KWI</th>\n",
       "      <th>VWM</th>\n",
       "      <th>VWN</th>\n",
       "      <th>STRM</th>\n",
       "      <th>STRN</th>\n",
       "      <th>SA</th>\n",
       "      <th>SB</th>\n",
       "      <th>log_avg_run</th>\n",
       "    </tr>\n",
       "  </thead>\n",
       "  <tbody>\n",
       "    <tr>\n",
       "      <th>0</th>\n",
       "      <td>-1.514916</td>\n",
       "      <td>-1.514916</td>\n",
       "      <td>-1.208972</td>\n",
       "      <td>-0.755071</td>\n",
       "      <td>-0.755071</td>\n",
       "      <td>-0.998068</td>\n",
       "      <td>-0.99807</td>\n",
       "      <td>-0.998011</td>\n",
       "      <td>-0.741098</td>\n",
       "      <td>-0.741098</td>\n",
       "      <td>-1.000017</td>\n",
       "      <td>-1.000017</td>\n",
       "      <td>-0.998011</td>\n",
       "      <td>-0.998011</td>\n",
       "      <td>0.125565</td>\n",
       "    </tr>\n",
       "    <tr>\n",
       "      <th>1</th>\n",
       "      <td>-1.514916</td>\n",
       "      <td>-1.514916</td>\n",
       "      <td>-1.208972</td>\n",
       "      <td>-0.755071</td>\n",
       "      <td>-0.755071</td>\n",
       "      <td>-0.998068</td>\n",
       "      <td>-0.99807</td>\n",
       "      <td>-0.998011</td>\n",
       "      <td>-0.741098</td>\n",
       "      <td>-0.741098</td>\n",
       "      <td>-1.000017</td>\n",
       "      <td>-1.000017</td>\n",
       "      <td>-0.998011</td>\n",
       "      <td>1.001993</td>\n",
       "      <td>-0.223847</td>\n",
       "    </tr>\n",
       "    <tr>\n",
       "      <th>2</th>\n",
       "      <td>-1.514916</td>\n",
       "      <td>-1.514916</td>\n",
       "      <td>-1.208972</td>\n",
       "      <td>-0.755071</td>\n",
       "      <td>-0.755071</td>\n",
       "      <td>-0.998068</td>\n",
       "      <td>-0.99807</td>\n",
       "      <td>-0.998011</td>\n",
       "      <td>-0.741098</td>\n",
       "      <td>-0.741098</td>\n",
       "      <td>-1.000017</td>\n",
       "      <td>-1.000017</td>\n",
       "      <td>1.001993</td>\n",
       "      <td>-0.998011</td>\n",
       "      <td>-0.202978</td>\n",
       "    </tr>\n",
       "    <tr>\n",
       "      <th>3</th>\n",
       "      <td>-1.514916</td>\n",
       "      <td>-1.514916</td>\n",
       "      <td>-1.208972</td>\n",
       "      <td>-0.755071</td>\n",
       "      <td>-0.755071</td>\n",
       "      <td>-0.998068</td>\n",
       "      <td>-0.99807</td>\n",
       "      <td>-0.998011</td>\n",
       "      <td>-0.741098</td>\n",
       "      <td>-0.741098</td>\n",
       "      <td>-1.000017</td>\n",
       "      <td>-1.000017</td>\n",
       "      <td>1.001993</td>\n",
       "      <td>1.001993</td>\n",
       "      <td>-0.138050</td>\n",
       "    </tr>\n",
       "    <tr>\n",
       "      <th>4</th>\n",
       "      <td>-1.514916</td>\n",
       "      <td>-1.514916</td>\n",
       "      <td>-1.208972</td>\n",
       "      <td>-0.755071</td>\n",
       "      <td>-0.755071</td>\n",
       "      <td>-0.998068</td>\n",
       "      <td>-0.99807</td>\n",
       "      <td>-0.998011</td>\n",
       "      <td>-0.741098</td>\n",
       "      <td>-0.741098</td>\n",
       "      <td>-1.000017</td>\n",
       "      <td>0.999983</td>\n",
       "      <td>-0.998011</td>\n",
       "      <td>-0.998011</td>\n",
       "      <td>0.142995</td>\n",
       "    </tr>\n",
       "  </tbody>\n",
       "</table>\n",
       "</div>"
      ],
      "text/plain": [
       "        MWG       NWG       KWG     MDIMC     NDIMC     MDIMA    NDIMB  \\\n",
       "0 -1.514916 -1.514916 -1.208972 -0.755071 -0.755071 -0.998068 -0.99807   \n",
       "1 -1.514916 -1.514916 -1.208972 -0.755071 -0.755071 -0.998068 -0.99807   \n",
       "2 -1.514916 -1.514916 -1.208972 -0.755071 -0.755071 -0.998068 -0.99807   \n",
       "3 -1.514916 -1.514916 -1.208972 -0.755071 -0.755071 -0.998068 -0.99807   \n",
       "4 -1.514916 -1.514916 -1.208972 -0.755071 -0.755071 -0.998068 -0.99807   \n",
       "\n",
       "        KWI       VWM       VWN      STRM      STRN        SA        SB  \\\n",
       "0 -0.998011 -0.741098 -0.741098 -1.000017 -1.000017 -0.998011 -0.998011   \n",
       "1 -0.998011 -0.741098 -0.741098 -1.000017 -1.000017 -0.998011  1.001993   \n",
       "2 -0.998011 -0.741098 -0.741098 -1.000017 -1.000017  1.001993 -0.998011   \n",
       "3 -0.998011 -0.741098 -0.741098 -1.000017 -1.000017  1.001993  1.001993   \n",
       "4 -0.998011 -0.741098 -0.741098 -1.000017  0.999983 -0.998011 -0.998011   \n",
       "\n",
       "   log_avg_run  \n",
       "0     0.125565  \n",
       "1    -0.223847  \n",
       "2    -0.202978  \n",
       "3    -0.138050  \n",
       "4     0.142995  "
      ]
     },
     "execution_count": 50,
     "metadata": {},
     "output_type": "execute_result"
    }
   ],
   "source": [
    "LineReg.head()"
   ]
  },
  {
   "cell_type": "code",
   "execution_count": 51,
   "metadata": {},
   "outputs": [
    {
     "name": "stdout",
     "output_type": "stream",
     "text": [
      "Shape of Feature matrix: (241120, 15)\n",
      "Shape of Target matrix: (241120, 1)\n",
      "Initial beta values: [[0. 0. 0. 0. 0. 0. 0. 0. 0. 0. 0. 0. 0. 0. 0.]]\n"
     ]
    }
   ],
   "source": [
    "#Setting the matrixes\n",
    "\n",
    "# X is the feature matrix with all the 14 independent features and the first column as all 1s for the intercept cofficient\n",
    "X = LineReg.iloc[:,0:14]\n",
    "ones = np.ones([X.shape[0],1])\n",
    "X = np.concatenate((ones,X),axis=1)\n",
    "\n",
    "# Y is the target variable matrix with just one column\n",
    "Y = LineReg.iloc[:,14:].values \n",
    "\n",
    "# Initialising the beta values with all zeroes.\n",
    "beta_strt = np.zeros([1,15])\n",
    "\n",
    "print(\"Shape of Feature matrix:\", X.shape)\n",
    "print(\"Shape of Target matrix:\", Y.shape)\n",
    "print(\"Initial beta values:\", beta_strt)"
   ]
  },
  {
   "cell_type": "code",
   "execution_count": 52,
   "metadata": {},
   "outputs": [
    {
     "data": {
      "text/plain": [
       "array([[ 1.        , -1.5149157 , -1.5149157 , ..., -1.00001659,\n",
       "        -0.99801127, -0.99801127],\n",
       "       [ 1.        , -1.5149157 , -1.5149157 , ..., -1.00001659,\n",
       "        -0.99801127,  1.0019927 ],\n",
       "       [ 1.        , -1.5149157 , -1.5149157 , ..., -1.00001659,\n",
       "         1.0019927 , -0.99801127],\n",
       "       ...,\n",
       "       [ 1.        ,  1.12297108,  1.12297108, ...,  0.99998341,\n",
       "        -0.99801127,  1.0019927 ],\n",
       "       [ 1.        ,  1.12297108,  1.12297108, ...,  0.99998341,\n",
       "         1.0019927 , -0.99801127],\n",
       "       [ 1.        ,  1.12297108,  1.12297108, ...,  0.99998341,\n",
       "         1.0019927 ,  1.0019927 ]])"
      ]
     },
     "execution_count": 52,
     "metadata": {},
     "output_type": "execute_result"
    }
   ],
   "source": [
    "X"
   ]
  },
  {
   "cell_type": "code",
   "execution_count": 53,
   "metadata": {},
   "outputs": [
    {
     "data": {
      "text/plain": [
       "array([[ 0.12556464],\n",
       "       [-0.22384737],\n",
       "       [-0.20297777],\n",
       "       ...,\n",
       "       [-0.94381245],\n",
       "       [-1.13293835],\n",
       "       [-1.55113665]])"
      ]
     },
     "execution_count": 53,
     "metadata": {},
     "output_type": "execute_result"
    }
   ],
   "source": [
    "Y"
   ]
  },
  {
   "cell_type": "code",
   "execution_count": 54,
   "metadata": {},
   "outputs": [
    {
     "data": {
      "text/plain": [
       "array([[0., 0., 0., 0., 0., 0., 0., 0., 0., 0., 0., 0., 0., 0., 0.]])"
      ]
     },
     "execution_count": 54,
     "metadata": {},
     "output_type": "execute_result"
    }
   ],
   "source": [
    "beta_strt"
   ]
  },
  {
   "cell_type": "code",
   "execution_count": 55,
   "metadata": {},
   "outputs": [],
   "source": [
    "#Splitting the data into training and test set by 80-20 division\n",
    "X_train_exp1,X_test_exp1,y_train_exp1,y_test_exp1 = train_test_split(X,Y,test_size = 0.2,random_state = 0)"
   ]
  },
  {
   "cell_type": "markdown",
   "metadata": {},
   "source": [
    "## Linear Regression Functions"
   ]
  },
  {
   "cell_type": "code",
   "execution_count": 15,
   "metadata": {},
   "outputs": [],
   "source": [
    "#Calculate cost\n",
    "def calculateCost(X,Y,beta):\n",
    "    summation = np.power(((X @ beta.T)-Y),2)\n",
    "    finalCost = np.sum(summation)/(2 * len(X))\n",
    "    return finalCost"
   ]
  },
  {
   "cell_type": "code",
   "execution_count": 16,
   "metadata": {},
   "outputs": [],
   "source": [
    "#Implement batch gradient descent with no convergence threshold and fixed iterations\n",
    "def gradientDescent(X,Y,beta,iters,alpha):\n",
    "    cost = np.zeros(iters)\n",
    "    diff = 1\n",
    "    convg = 0\n",
    "    for i in range(iters):\n",
    "        beta = beta - (alpha/len(X)) * np.sum(X * (X @ beta.T - Y), axis=0)\n",
    "        cost[i] = calculateCost(X, Y, beta)\n",
    "        if diff > 0.0000001:    \n",
    "            if i==0:\n",
    "                diff = cost[i]\n",
    "            else:\n",
    "                diff = abs(cost[i] - cost[i-1])\n",
    "                if diff <= 0.0000001:\n",
    "                    convg = i\n",
    "    return beta,cost,convg"
   ]
  },
  {
   "cell_type": "code",
   "execution_count": 17,
   "metadata": {},
   "outputs": [],
   "source": [
    "#Implement batch gradient descent with convergence threshold as input\n",
    "def gradientDescentThresh(X,Y,beta,alpha,thresh,iters=5000):\n",
    "    cost = []\n",
    "    diff = 1\n",
    "    convg = 0\n",
    "    while diff > thresh:\n",
    "        beta = beta - (alpha/len(X)) * np.sum(X * (X @ beta.T - Y), axis=0)\n",
    "        cost.append(calculateCost(X, Y, beta))\n",
    "        if len(cost)==1:\n",
    "            diff = cost[0]\n",
    "        else:\n",
    "            diff = abs(cost[-1] - cost[-2])\n",
    "            if diff <= thresh:\n",
    "                convg = len(cost)\n",
    "    return beta,cost,convg"
   ]
  },
  {
   "cell_type": "code",
   "execution_count": 18,
   "metadata": {},
   "outputs": [],
   "source": [
    "#Implement batch gradient descent with convergence threshold as input\n",
    "#Calculate Test and Train dataset MSE at each iteration\n",
    "def gradientDescentItersMSE(X,Y,X_test,Y_test,beta,alpha,thresh,iters=5000):\n",
    "    Test_err = []\n",
    "    Train_err = []\n",
    "    cost = []\n",
    "    diff = 1\n",
    "    convg = 0\n",
    "    while diff > thresh:\n",
    "        beta = beta - (alpha/len(X)) * np.sum(X * (X @ beta.T - Y), axis=0)\n",
    "        cost.append(calculateCost(X, Y, beta))\n",
    "        \n",
    "        y_hat_test = predict(X_test,beta)\n",
    "        y_hat_train = predict(X,beta)\n",
    "        \n",
    "        Test_MSE = calculateMSE(Y_test,y_hat_test)\n",
    "        Train_MSE = calculateMSE(Y,y_hat_train)\n",
    "        \n",
    "        Test_err.append(Test_MSE)\n",
    "        Train_err.append(Train_MSE)\n",
    "        \n",
    "        if len(cost)==1:\n",
    "            diff = cost[0]\n",
    "        else:\n",
    "            diff = abs(cost[-1] - cost[-2])\n",
    "            if diff <= thresh:\n",
    "                convg = len(cost)\n",
    "    return Test_err,Train_err,convg"
   ]
  },
  {
   "cell_type": "code",
   "execution_count": 19,
   "metadata": {},
   "outputs": [],
   "source": [
    "#Calculate predicted Y\n",
    "def predict(X,beta):\n",
    "    Y_hat = X.dot(beta.T)\n",
    "    return Y_hat"
   ]
  },
  {
   "cell_type": "code",
   "execution_count": 20,
   "metadata": {},
   "outputs": [],
   "source": [
    "#Calculate MSE\n",
    "def calculateMSE(Y, Y_hat):\n",
    "    MSE = (np.sum((Y - Y_hat) ** 2) / len(Y));\n",
    "    return MSE;"
   ]
  },
  {
   "cell_type": "code",
   "execution_count": 21,
   "metadata": {},
   "outputs": [],
   "source": [
    "#Calculate R-squared\n",
    "def calculateRSquared(Y, Y_hat):\n",
    "    Y_mean = np.mean(Y)\n",
    "    residualSSE = np.sum((Y - Y_hat) ** 2)\n",
    "    totalSSE = np.sum((Y - Y_mean) ** 2)\n",
    "    rSquared = 1 - (residualSSE / totalSSE)\n",
    "    return rSquared"
   ]
  },
  {
   "cell_type": "code",
   "execution_count": 22,
   "metadata": {},
   "outputs": [],
   "source": [
    "def printResults(X,Y,X_test,Y_test,beta,iters,alpha):\n",
    "    print(\"Alpha:\",alpha)\n",
    "    beta_cal,cost_cal,convg_cal = gradientDescent(X,Y,beta,iters,alpha)\n",
    "    \n",
    "    print(\"The beta values are:\",beta_cal)\n",
    "    print(\"The final value of cost function is:\", cost_cal[-1])\n",
    "    print(\"The value of cost function converges at:\", convg_cal)\n",
    "\n",
    "    plt.plot(cost_cal) \n",
    "    plt.xlabel(\"Number of iterations\") \n",
    "    plt.ylabel(\"Cost\") \n",
    "    plt.title(\"Cost Converging wrt Iterations\")\n",
    "    plt.show()\n",
    "    \n",
    "    #Calculating MSE for test and train data\n",
    "    y_hat_test = predict(X_test,beta_cal)\n",
    "    y_hat_train = predict(X,beta_cal)\n",
    "    \n",
    "    Test_MSE = calculateMSE(Y_test,y_hat_test)\n",
    "    Train_MSE = calculateMSE(Y,y_hat_train)\n",
    "    \n",
    "    print(\"Test data MSE: \",Test_MSE)\n",
    "    print(\"Train data MSE: \",Train_MSE)\n",
    "    \n",
    "    #Calculating R-squared for test and train data\n",
    "    print(\"Test data R-squared: \",calculateRSquared(Y_test,y_hat_test))\n",
    "    print(\"Train data R-squared: \",calculateRSquared(Y,y_hat_train))"
   ]
  },
  {
   "cell_type": "markdown",
   "metadata": {},
   "source": [
    "## Experiment 1 - Running the model with different alpha values and fixed iterations"
   ]
  },
  {
   "cell_type": "code",
   "execution_count": 56,
   "metadata": {},
   "outputs": [
    {
     "name": "stdout",
     "output_type": "stream",
     "text": [
      "0.49950084316227295\n"
     ]
    }
   ],
   "source": [
    "#Compute cost with all Betas as zeroes\n",
    "Cost_without_GD = calculateCost(X_train_exp1, y_train_exp1, beta_strt)\n",
    "print(Cost_without_GD)"
   ]
  },
  {
   "cell_type": "code",
   "execution_count": 57,
   "metadata": {},
   "outputs": [],
   "source": [
    "#The values of alphas we will derive result for\n",
    "alpha_list = [0.001, 0.005, 0.01, 0.05, 0.1, 0.3, 0.5, 1, 1.3, 1.5]"
   ]
  },
  {
   "cell_type": "code",
   "execution_count": 58,
   "metadata": {},
   "outputs": [],
   "source": [
    "#Setting the figure size and the number of iteartions\n",
    "plt.rcParams['figure.figsize'] = (8, 6)\n",
    "iters = 2000"
   ]
  },
  {
   "cell_type": "code",
   "execution_count": 59,
   "metadata": {},
   "outputs": [
    {
     "name": "stdout",
     "output_type": "stream",
     "text": [
      "Alpha: 0.001\n",
      "The beta values are: [[ 1.60548825e-04  3.92378292e-01  3.03259783e-01  2.73316605e-02\n",
      "  -2.71634428e-01 -2.61189747e-01 -2.48865256e-03 -8.42029673e-03\n",
      "  -1.27135362e-02  6.34989264e-02  2.93817676e-02 -5.22090024e-02\n",
      "  -6.72089961e-03 -7.74027752e-02 -2.21091603e-02]]\n",
      "The final value of cost function is: 0.23846815436162794\n",
      "The value of cost function converges at: 0\n"
     ]
    },
    {
     "data": {
      "image/png": "[encoded data removed]",
      "text/plain": [
       "<Figure size 576x432 with 1 Axes>"
      ]
     },
     "metadata": {
      "needs_background": "light"
     },
     "output_type": "display_data"
    },
    {
     "name": "stdout",
     "output_type": "stream",
     "text": [
      "Test data MSE:  0.4776721345415939\n",
      "Train data MSE:  0.4769363087232559\n",
      "Test data R-squared:  0.5242265348964357\n",
      "Train data R-squared:  0.5225870071461345\n"
     ]
    }
   ],
   "source": [
    "alpha = 0.001\n",
    "printResults(X_train_exp1,y_train_exp1,X_test_exp1,y_test_exp1,beta_strt,iters,alpha)"
   ]
  },
  {
   "cell_type": "code",
   "execution_count": 60,
   "metadata": {},
   "outputs": [
    {
     "name": "stdout",
     "output_type": "stream",
     "text": [
      "Alpha: 0.005\n",
      "The beta values are: [[ 4.13240949e-04  5.00518303e-01  3.94904525e-01  8.27421539e-02\n",
      "  -3.93911612e-01 -3.79025918e-01  1.00242963e-03 -1.31018699e-03\n",
      "  -1.35482415e-02 -1.42997634e-02 -4.02714457e-02 -6.06305001e-02\n",
      "  -7.89946884e-03 -8.84339932e-02 -2.43616981e-02]]\n",
      "The final value of cost function is: 0.22105959200415695\n",
      "The value of cost function converges at: 1698\n"
     ]
    },
    {
     "data": {
      "image/png": "[encoded data removed]",
      "text/plain": [
       "<Figure size 576x432 with 1 Axes>"
      ]
     },
     "metadata": {
      "needs_background": "light"
     },
     "output_type": "display_data"
    },
    {
     "name": "stdout",
     "output_type": "stream",
     "text": [
      "Test data MSE:  0.4428075654469661\n",
      "Train data MSE:  0.4421191840083139\n",
      "Test data R-squared:  0.5589525229706873\n",
      "Train data R-squared:  0.5574389305763798\n"
     ]
    }
   ],
   "source": [
    "alpha = 0.005\n",
    "printResults(X_train_exp1,y_train_exp1,X_test_exp1,y_test_exp1,beta_strt,iters,alpha)"
   ]
  },
  {
   "cell_type": "code",
   "execution_count": 61,
   "metadata": {},
   "outputs": [
    {
     "name": "stdout",
     "output_type": "stream",
     "text": [
      "Alpha: 0.01\n",
      "The beta values are: [[ 4.15195167e-04  5.02029449e-01  3.96233251e-01  8.37052574e-02\n",
      "  -3.95654604e-01 -3.80718358e-01  8.82079479e-04 -1.30996379e-03\n",
      "  -1.35300278e-02 -1.58533432e-02 -4.16314992e-02 -6.06404830e-02\n",
      "  -7.90482126e-03 -8.84169664e-02 -2.43418230e-02]]\n",
      "The final value of cost function is: 0.2210556120515606\n",
      "The value of cost function converges at: 914\n"
     ]
    },
    {
     "data": {
      "image/png": "[encoded data removed]",
      "text/plain": [
       "<Figure size 576x432 with 1 Axes>"
      ]
     },
     "metadata": {
      "needs_background": "light"
     },
     "output_type": "display_data"
    },
    {
     "name": "stdout",
     "output_type": "stream",
     "text": [
      "Test data MSE:  0.44280343777024683\n",
      "Train data MSE:  0.4421112241031212\n",
      "Test data R-squared:  0.5589566342405595\n",
      "Train data R-squared:  0.5574468984372689\n"
     ]
    }
   ],
   "source": [
    "alpha = 0.01\n",
    "printResults(X_train_exp1,y_train_exp1,X_test_exp1,y_test_exp1,beta_strt,iters,alpha)"
   ]
  },
  {
   "cell_type": "code",
   "execution_count": 62,
   "metadata": {},
   "outputs": [
    {
     "name": "stdout",
     "output_type": "stream",
     "text": [
      "Alpha: 0.05\n",
      "The beta values are: [[ 4.15204142e-04  5.02038339e-01  3.96241041e-01  8.37098923e-02\n",
      "  -3.95663395e-01 -3.80726855e-01  8.80555023e-04 -1.31074101e-03\n",
      "  -1.35299340e-02 -1.58625051e-02 -4.16394896e-02 -6.06405266e-02\n",
      "  -7.90484961e-03 -8.84168566e-02 -2.43417099e-02]]\n",
      "The final value of cost function is: 0.2210556119321399\n",
      "The value of cost function converges at: 212\n"
     ]
    },
    {
     "data": {
      "image/png": "[encoded data removed]",
      "text/plain": [
       "<Figure size 576x432 with 1 Axes>"
      ]
     },
     "metadata": {
      "needs_background": "light"
     },
     "output_type": "display_data"
    },
    {
     "name": "stdout",
     "output_type": "stream",
     "text": [
      "Test data MSE:  0.44280345558540324\n",
      "Train data MSE:  0.4421112238642798\n",
      "Test data R-squared:  0.5589566164962154\n",
      "Train data R-squared:  0.557446898676349\n"
     ]
    }
   ],
   "source": [
    "alpha = 0.05\n",
    "printResults(X_train_exp1,y_train_exp1,X_test_exp1,y_test_exp1,beta_strt,iters,alpha)"
   ]
  },
  {
   "cell_type": "code",
   "execution_count": 63,
   "metadata": {},
   "outputs": [
    {
     "name": "stdout",
     "output_type": "stream",
     "text": [
      "Alpha: 0.1\n",
      "The beta values are: [[ 4.15204142e-04  5.02038339e-01  3.96241041e-01  8.37098923e-02\n",
      "  -3.95663395e-01 -3.80726855e-01  8.80555023e-04 -1.31074101e-03\n",
      "  -1.35299340e-02 -1.58625051e-02 -4.16394896e-02 -6.06405266e-02\n",
      "  -7.90484961e-03 -8.84168566e-02 -2.43417099e-02]]\n",
      "The final value of cost function is: 0.2210556119321399\n",
      "The value of cost function converges at: 111\n"
     ]
    },
    {
     "data": {
      "image/png": "[encoded data removed]",
      "text/plain": [
       "<Figure size 576x432 with 1 Axes>"
      ]
     },
     "metadata": {
      "needs_background": "light"
     },
     "output_type": "display_data"
    },
    {
     "name": "stdout",
     "output_type": "stream",
     "text": [
      "Test data MSE:  0.44280345558540324\n",
      "Train data MSE:  0.4421112238642798\n",
      "Test data R-squared:  0.5589566164962154\n",
      "Train data R-squared:  0.557446898676349\n"
     ]
    }
   ],
   "source": [
    "alpha = 0.1\n",
    "printResults(X_train_exp1,y_train_exp1,X_test_exp1,y_test_exp1,beta_strt,iters,alpha)"
   ]
  },
  {
   "cell_type": "code",
   "execution_count": 64,
   "metadata": {},
   "outputs": [
    {
     "name": "stdout",
     "output_type": "stream",
     "text": [
      "Alpha: 0.3\n",
      "The beta values are: [[ 4.15204142e-04  5.02038339e-01  3.96241041e-01  8.37098923e-02\n",
      "  -3.95663395e-01 -3.80726855e-01  8.80555023e-04 -1.31074101e-03\n",
      "  -1.35299340e-02 -1.58625051e-02 -4.16394896e-02 -6.06405266e-02\n",
      "  -7.90484961e-03 -8.84168566e-02 -2.43417099e-02]]\n",
      "The final value of cost function is: 0.2210556119321399\n",
      "The value of cost function converges at: 38\n"
     ]
    },
    {
     "data": {
      "image/png": "[encoded data removed]",
      "text/plain": [
       "<Figure size 576x432 with 1 Axes>"
      ]
     },
     "metadata": {
      "needs_background": "light"
     },
     "output_type": "display_data"
    },
    {
     "name": "stdout",
     "output_type": "stream",
     "text": [
      "Test data MSE:  0.44280345558540324\n",
      "Train data MSE:  0.4421112238642798\n",
      "Test data R-squared:  0.5589566164962154\n",
      "Train data R-squared:  0.557446898676349\n"
     ]
    }
   ],
   "source": [
    "alpha = 0.3\n",
    "printResults(X_train_exp1,y_train_exp1,X_test_exp1,y_test_exp1,beta_strt,iters,alpha)"
   ]
  },
  {
   "cell_type": "code",
   "execution_count": 65,
   "metadata": {},
   "outputs": [
    {
     "name": "stdout",
     "output_type": "stream",
     "text": [
      "Alpha: 1\n",
      "The beta values are: [[ 4.15204142e-04  5.02038339e-01  3.96241041e-01  8.37098923e-02\n",
      "  -3.95663395e-01 -3.80726855e-01  8.80555023e-04 -1.31074101e-03\n",
      "  -1.35299340e-02 -1.58625051e-02 -4.16394896e-02 -6.06405266e-02\n",
      "  -7.90484961e-03 -8.84168566e-02 -2.43417099e-02]]\n",
      "The final value of cost function is: 0.2210556119321399\n",
      "The value of cost function converges at: 10\n"
     ]
    },
    {
     "data": {
      "image/png": "[encoded data removed]",
      "text/plain": [
       "<Figure size 576x432 with 1 Axes>"
      ]
     },
     "metadata": {
      "needs_background": "light"
     },
     "output_type": "display_data"
    },
    {
     "name": "stdout",
     "output_type": "stream",
     "text": [
      "Test data MSE:  0.44280345558540324\n",
      "Train data MSE:  0.4421112238642798\n",
      "Test data R-squared:  0.5589566164962154\n",
      "Train data R-squared:  0.557446898676349\n"
     ]
    }
   ],
   "source": [
    "alpha = 1\n",
    "printResults(X_train_exp1,y_train_exp1,X_test_exp1,y_test_exp1,beta_strt,iters,alpha)"
   ]
  },
  {
   "cell_type": "code",
   "execution_count": 66,
   "metadata": {},
   "outputs": [
    {
     "name": "stdout",
     "output_type": "stream",
     "text": [
      "Alpha: 1.3\n",
      "The beta values are: [[ 4.15204142e-04  5.02038339e-01  3.96241041e-01  8.37098923e-02\n",
      "  -3.95663395e-01 -3.80726855e-01  8.80555023e-04 -1.31074101e-03\n",
      "  -1.35299340e-02 -1.58625051e-02 -4.16394896e-02 -6.06405266e-02\n",
      "  -7.90484961e-03 -8.84168566e-02 -2.43417099e-02]]\n",
      "The final value of cost function is: 0.2210556119321399\n",
      "The value of cost function converges at: 37\n"
     ]
    },
    {
     "data": {
      "image/png": "[encoded data removed]",
      "text/plain": [
       "<Figure size 576x432 with 1 Axes>"
      ]
     },
     "metadata": {
      "needs_background": "light"
     },
     "output_type": "display_data"
    },
    {
     "name": "stdout",
     "output_type": "stream",
     "text": [
      "Test data MSE:  0.44280345558540324\n",
      "Train data MSE:  0.4421112238642798\n",
      "Test data R-squared:  0.5589566164962154\n",
      "Train data R-squared:  0.557446898676349\n"
     ]
    }
   ],
   "source": [
    "alpha = 1.3\n",
    "printResults(X_train_exp1,y_train_exp1,X_test_exp1,y_test_exp1,beta_strt,iters,alpha)"
   ]
  },
  {
   "cell_type": "code",
   "execution_count": 67,
   "metadata": {},
   "outputs": [
    {
     "name": "stdout",
     "output_type": "stream",
     "text": [
      "Alpha: 1.5\n",
      "The beta values are: [[ 3.03831620e+109 -2.96668187e+110 -2.81748867e+110  1.27480922e+111\n",
      "   2.29226655e+111  2.46702306e+111  3.52174032e+111  3.59171604e+111\n",
      "   3.08886062e+109 -2.77141984e+111 -2.85361374e+111 -1.37020508e+108\n",
      "   1.06329725e+109 -1.94999303e+108  1.36494223e+109]]\n",
      "The final value of cost function is: 3.867536797091167e+223\n",
      "The value of cost function converges at: 0\n"
     ]
    },
    {
     "data": {
      "image/png": "[encoded data removed]",
      "text/plain": [
       "<Figure size 576x432 with 1 Axes>"
      ]
     },
     "metadata": {
      "needs_background": "light"
     },
     "output_type": "display_data"
    },
    {
     "name": "stdout",
     "output_type": "stream",
     "text": [
      "Test data MSE:  7.735193071422918e+223\n",
      "Train data MSE:  7.735073594182333e+223\n",
      "Test data R-squared:  -7.704446930670825e+223\n",
      "Train data R-squared:  -7.742804577888135e+223\n"
     ]
    }
   ],
   "source": [
    "alpha = 1.5\n",
    "printResults(X_train_exp1,y_train_exp1,X_test_exp1,y_test_exp1,beta_strt,iters,alpha)"
   ]
  },
  {
   "cell_type": "markdown",
   "metadata": {},
   "source": [
    "## Experiment 2 - Varying the values of convergence threshold"
   ]
  },
  {
   "cell_type": "code",
   "execution_count": 68,
   "metadata": {},
   "outputs": [],
   "source": [
    "cvng_thresh = [0.00001,0.000001,0.0000001,0.00000001,0.000000001,0.0000000001,0.00000000001,0.000000000001]\n",
    "Test_MSE = []\n",
    "Train_MSE = []\n",
    "GD_iters = []\n",
    "alpha = 0.05\n",
    "for i in cvng_thresh:\n",
    "    beta_cal,cost_cal,convg_cal = gradientDescentThresh(X_train_exp1,y_train_exp1,beta_strt,alpha,i)\n",
    "    \n",
    "    y_hat_test = predict(X_test_exp1,beta_cal)\n",
    "    y_hat_train = predict(X_train_exp1,beta_cal)\n",
    "    \n",
    "    Test_MSE_i = calculateMSE(y_test_exp1,y_hat_test)\n",
    "    Train_MSE_i = calculateMSE(y_train_exp1,y_hat_train)\n",
    "    \n",
    "    Test_MSE.append(Test_MSE_i)\n",
    "    Train_MSE.append(Train_MSE_i)\n",
    "    GD_iters.append(convg_cal)"
   ]
  },
  {
   "cell_type": "code",
   "execution_count": 69,
   "metadata": {},
   "outputs": [
    {
     "data": {
      "text/plain": [
       "Text(0.5, 1.0, 'Test Data MSE as a function of Threshold')"
      ]
     },
     "execution_count": 69,
     "metadata": {},
     "output_type": "execute_result"
    },
    {
     "data": {
      "image/png": "[encoded data removed]",
      "text/plain": [
       "<Figure size 576x432 with 1 Axes>"
      ]
     },
     "metadata": {
      "needs_background": "light"
     },
     "output_type": "display_data"
    }
   ],
   "source": [
    "plt.plot(cvng_thresh, Test_MSE)\n",
    "plt.xlabel('Convergence Threshold', fontsize=12)\n",
    "plt.ylabel('Test Data MSE', fontsize=12)\n",
    "plt.title('Test Data MSE as a function of Threshold', fontsize=15)"
   ]
  },
  {
   "cell_type": "code",
   "execution_count": 70,
   "metadata": {},
   "outputs": [
    {
     "data": {
      "text/plain": [
       "Text(0.5, 1.0, 'Train Data MSE as a function of Threshold')"
      ]
     },
     "execution_count": 70,
     "metadata": {},
     "output_type": "execute_result"
    },
    {
     "data": {
      "image/png": "[encoded data removed]",
      "text/plain": [
       "<Figure size 576x432 with 1 Axes>"
      ]
     },
     "metadata": {
      "needs_background": "light"
     },
     "output_type": "display_data"
    }
   ],
   "source": [
    "plt.plot(cvng_thresh, Train_MSE)\n",
    "plt.xlabel('Convergence Threshold', fontsize=12)\n",
    "plt.ylabel('Train Data MSE', fontsize=12)\n",
    "plt.title('Train Data MSE as a function of Threshold', fontsize=15)"
   ]
  },
  {
   "cell_type": "code",
   "execution_count": 79,
   "metadata": {},
   "outputs": [
    {
     "data": {
      "text/plain": [
       "[0.44314243390152036,\n",
       " 0.4428311221661564,\n",
       " 0.44280446516646665,\n",
       " 0.442803031676418,\n",
       " 0.4428032510195214,\n",
       " 0.4428033859624052,\n",
       " 0.4428034337084782,\n",
       " 0.4428034488752369]"
      ]
     },
     "execution_count": 79,
     "metadata": {},
     "output_type": "execute_result"
    }
   ],
   "source": [
    "Test_MSE"
   ]
  }
 ],
 "metadata": {
  "kernelspec": {
   "display_name": "Python 3",
   "language": "python",
   "name": "python3"
  },
  "language_info": {
   "codemirror_mode": {
    "name": "ipython",
    "version": 3
   },
   "file_extension": ".py",
   "mimetype": "text/x-python",
   "name": "python",
   "nbconvert_exporter": "python",
   "pygments_lexer": "ipython3",
   "version": "3.7.3"
  }
 },
 "nbformat": 4,
 "nbformat_minor": 2
}
